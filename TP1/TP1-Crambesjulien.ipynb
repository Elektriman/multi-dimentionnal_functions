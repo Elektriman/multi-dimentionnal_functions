{
 "cells": [
  {
   "cell_type": "markdown",
   "id": "867a6bd9",
   "metadata": {},
   "source": [
    "# Fonctions de plusieurs variables"
   ]
  },
  {
   "cell_type": "markdown",
   "id": "3fa908ac",
   "metadata": {},
   "source": [
    "# TP 1"
   ]
  },
  {
   "cell_type": "markdown",
   "id": "b27d7780",
   "metadata": {},
   "source": [
    "## 1. Bases, fonctions"
   ]
  },
  {
   "cell_type": "markdown",
   "id": "a3397760",
   "metadata": {},
   "source": [
    "1. Écrire le programme `cylindre.py` : il contient une fonction qui, appelée après saisie d’un rayon et d’une\n",
    "hauteur, calcule le volume d’un cylindre droit."
   ]
  },
  {
   "cell_type": "code",
   "execution_count": 1,
   "id": "77bd210a",
   "metadata": {},
   "outputs": [
    {
     "name": "stdout",
     "output_type": "stream",
     "text": [
      "Overwriting cylindre.py\n"
     ]
    }
   ],
   "source": [
    "%%writefile cylindre.py\n",
    "import numpy as np\n",
    "\n",
    "def cylindre(r:float, h:float)->float :\n",
    "    return np.pi*(r**2)*h"
   ]
  },
  {
   "cell_type": "code",
   "execution_count": 2,
   "id": "cf834ce1",
   "metadata": {},
   "outputs": [
    {
     "data": {
      "text/plain": [
       "1570.7963267948967"
      ]
     },
     "execution_count": 2,
     "metadata": {},
     "output_type": "execute_result"
    }
   ],
   "source": [
    "from cylindre import cylindre\n",
    "\n",
    "cylindre(10, 5)"
   ]
  },
  {
   "cell_type": "markdown",
   "id": "5690cfc3",
   "metadata": {},
   "source": [
    "2. Écrire le programme `parite.py` : l’utilisateur est invité à entrer un nombre entier ; le programme contient une fonction qui teste la parité du nombre ; le résultat est affiché."
   ]
  },
  {
   "cell_type": "code",
   "execution_count": 3,
   "id": "5eca3a61",
   "metadata": {},
   "outputs": [
    {
     "name": "stdout",
     "output_type": "stream",
     "text": [
      "Overwriting parite.py\n"
     ]
    }
   ],
   "source": [
    "%%writefile parite.py\n",
    "\n",
    "def parite(n:int)->bool :\n",
    "    return n%2==0\n",
    "\n",
    "if __name__ == \"__main__\" :\n",
    "    n=int(input())\n",
    "    print(parite(n))"
   ]
  },
  {
   "cell_type": "code",
   "execution_count": 4,
   "id": "55bb5c19",
   "metadata": {},
   "outputs": [
    {
     "data": {
      "text/plain": [
       "True"
      ]
     },
     "execution_count": 4,
     "metadata": {},
     "output_type": "execute_result"
    }
   ],
   "source": [
    "from parite import parite\n",
    "\n",
    "parite(10)"
   ]
  },
  {
   "cell_type": "code",
   "execution_count": 5,
   "id": "33108e19",
   "metadata": {},
   "outputs": [
    {
     "data": {
      "text/plain": [
       "False"
      ]
     },
     "execution_count": 5,
     "metadata": {},
     "output_type": "execute_result"
    }
   ],
   "source": [
    "parite(13)"
   ]
  },
  {
   "cell_type": "markdown",
   "id": "b923b95a",
   "metadata": {},
   "source": [
    "## 2. Boucles"
   ]
  },
  {
   "cell_type": "markdown",
   "id": "1c9f29d2",
   "metadata": {},
   "source": [
    "1. Écrire le programme `classement.py` :\n",
    "    1. après saisie de 2 nombres, il sort le min.\n",
    "    2. après saisie de 2 chaines de caractères, il sort la plus longue ou, quand c’est le cas, annonce qu’elles ont la même longueur."
   ]
  },
  {
   "cell_type": "code",
   "execution_count": 6,
   "id": "3fcf0e69",
   "metadata": {},
   "outputs": [
    {
     "name": "stdout",
     "output_type": "stream",
     "text": [
      "Overwriting classement.py\n"
     ]
    }
   ],
   "source": [
    "%%writefile classement.py\n",
    "\n",
    "def classement(entry1, entry2):\n",
    "    #cas où on donne deux chaines de caractères\n",
    "    if type(entry1)==type(entry2)==str :\n",
    "        if len(entry1)>len(entry2) :\n",
    "            return entry1\n",
    "        elif len(entry1)<len(entry2) :\n",
    "            return entry2\n",
    "        else :\n",
    "            return \"les deux chaînes de caractères sont de la même longueur\"\n",
    "    \n",
    "    #cas où l'on donne deux nombres\n",
    "    elif type(entry1) in [float, int] and type(entry2) in [float, int]:\n",
    "        if entry1 < entry2 :\n",
    "            return entry1\n",
    "        else :\n",
    "            return entry2\n",
    "    \n",
    "    else :\n",
    "        raise TypeError(f\"les entrées doivent êtres de types (int ou float, int ou float) ou (str, str) et pas ({type(entry1).__name__}, {type(entry2).__name__})\")"
   ]
  },
  {
   "cell_type": "code",
   "execution_count": 7,
   "id": "4f648627",
   "metadata": {},
   "outputs": [
    {
     "data": {
      "text/plain": [
       "1"
      ]
     },
     "execution_count": 7,
     "metadata": {},
     "output_type": "execute_result"
    }
   ],
   "source": [
    "from classement import classement\n",
    "import numpy as np\n",
    "\n",
    "classement(1, np.pi)"
   ]
  },
  {
   "cell_type": "code",
   "execution_count": 8,
   "id": "fce8b8de",
   "metadata": {},
   "outputs": [
    {
     "data": {
      "text/plain": [
       "'les deux chaînes de caractères sont de la même longueur'"
      ]
     },
     "execution_count": 8,
     "metadata": {},
     "output_type": "execute_result"
    }
   ],
   "source": [
    "classement(\"never gonna\",\"give you up\")"
   ]
  },
  {
   "cell_type": "markdown",
   "id": "8954ebb5",
   "metadata": {},
   "source": [
    "2. Écrire un programme `FanDeTrump.py` qui affiche 100 fois : \"Je voudrais pouvoir voter pour Donald Trump\"."
   ]
  },
  {
   "cell_type": "code",
   "execution_count": 9,
   "id": "9efeb9fc",
   "metadata": {},
   "outputs": [
    {
     "name": "stdout",
     "output_type": "stream",
     "text": [
      "Overwriting FanDeTrump.py\n"
     ]
    }
   ],
   "source": [
    "%%writefile FanDeTrump.py\n",
    "\n",
    "#on peut faire un programme simple qui utilise une boucle for :\n",
    "for i in range(100):\n",
    "    print(\"Je voudrais pouvoir voter pour Donald Trump\")\n",
    "\n",
    "#sinon peut utiliser le caractère spécial de retour à la ligne à notre avantage et éviter d'avoir à faire une boucle :\n",
    "#print(\"Je voudrais pouvoir voter pour Donald Trump\\n\"*100)"
   ]
  },
  {
   "cell_type": "markdown",
   "id": "44497779",
   "metadata": {},
   "source": [
    "3. Écrire un programme `DeuxADeux.py` qui affiche les nombres de 2 en 2 jusqu’à 100, d’abord en utilisant\n",
    "un for puis en utilisant un while."
   ]
  },
  {
   "cell_type": "code",
   "execution_count": 10,
   "id": "9734d790",
   "metadata": {},
   "outputs": [
    {
     "name": "stdout",
     "output_type": "stream",
     "text": [
      "Overwriting DeuxADeux.py\n"
     ]
    }
   ],
   "source": [
    "%%writefile DeuxADeux.py\n",
    "#avec une boucle for\n",
    "\n",
    "for i in range(0,101,2): #on s'arrête à 101 car range(0,n) exclut la valeur n en s'arrêtant à n-1\n",
    "    print(i)"
   ]
  },
  {
   "cell_type": "code",
   "execution_count": 11,
   "id": "8567d9e3",
   "metadata": {},
   "outputs": [
    {
     "name": "stdout",
     "output_type": "stream",
     "text": [
      "Appending to DeuxADeux.py\n"
     ]
    }
   ],
   "source": [
    "%%writefile -a DeuxADeux.py\n",
    "#avec une boucle while\n",
    "\n",
    "i=0\n",
    "while i<=100 :\n",
    "    print(i)\n",
    "    i+=2"
   ]
  },
  {
   "cell_type": "markdown",
   "id": "1f263df4",
   "metadata": {},
   "source": [
    "## 3. Listes"
   ]
  },
  {
   "cell_type": "markdown",
   "id": "58aacd91",
   "metadata": {},
   "source": [
    "1. Faire une liste contenant les mots *Hulk, Choquet, Superman, Tyson, DarkVador*. Afficher les éléments\n",
    "de la liste (hors de la liste). Puis les afficher classés selon leur puissance (penser au classement naturel par\n",
    "ordre alphabétique)."
   ]
  },
  {
   "cell_type": "code",
   "execution_count": 12,
   "id": "a7b8ff95",
   "metadata": {},
   "outputs": [],
   "source": [
    "Noms = [\"Hulk\", \"Choquet\", \"Superman\", \"Tyson\", \"DarkVador\"]"
   ]
  },
  {
   "cell_type": "code",
   "execution_count": 13,
   "id": "b24b52a4",
   "metadata": {},
   "outputs": [],
   "source": [
    "def afficher(L:list):\n",
    "    for elt in L :\n",
    "        print(elt)"
   ]
  },
  {
   "cell_type": "code",
   "execution_count": 14,
   "id": "677ee618",
   "metadata": {},
   "outputs": [
    {
     "name": "stdout",
     "output_type": "stream",
     "text": [
      "Hulk\n",
      "Choquet\n",
      "Superman\n",
      "Tyson\n",
      "DarkVador\n"
     ]
    }
   ],
   "source": [
    "afficher(Noms)"
   ]
  },
  {
   "cell_type": "code",
   "execution_count": 15,
   "id": "7bf7b51d",
   "metadata": {},
   "outputs": [],
   "source": [
    "def trier(L:list)->list:\n",
    "    #transforme une lettre en un entier correspondant à son rang dans l'alphabet : a->0, b->1, ...\n",
    "    def val(c:chr)->int:\n",
    "        if c.isalpha() :\n",
    "            return ord(c.upper())-65\n",
    "        else :\n",
    "            raise TypeError(f\"le caractère donné {c} n'est pas alphabétique\")\n",
    "    \n",
    "    #revoie true si le premier mot 'm1' est plus petit que le mot 'm2' selon l'ordre alphabétique, false sinon\n",
    "    def lt(m1:str,m2:str)->bool:\n",
    "        for i in range(min(len(m1),len(m2))):\n",
    "            if val(m1[i])<val(m2[i]) :\n",
    "                return True\n",
    "            elif val(m1[i])>val(m2[i]) :\n",
    "                return False\n",
    "        return len(m1)<=len(m2)\n",
    "\n",
    "    #j'utilise l'algorithme de tri développé dans la partie 6\n",
    "    def tri_sélection(L:list)->list:\n",
    "        for i in range(len(L)-1):\n",
    "            i_min = i\n",
    "            for j in range(i+1, len(L)):\n",
    "                if lt(L[j],L[i_min]) :\n",
    "                    i_min = j\n",
    "            L[i], L[i_min] = L[i_min], L[i]\n",
    "        return L\n",
    "    tri_sélection(L)\n",
    "    "
   ]
  },
  {
   "cell_type": "code",
   "execution_count": 16,
   "id": "abe6112c",
   "metadata": {},
   "outputs": [],
   "source": [
    "trier(Noms)"
   ]
  },
  {
   "cell_type": "code",
   "execution_count": 17,
   "id": "54f9fcd6",
   "metadata": {},
   "outputs": [
    {
     "name": "stdout",
     "output_type": "stream",
     "text": [
      "Choquet\n",
      "DarkVador\n",
      "Hulk\n",
      "Superman\n",
      "Tyson\n"
     ]
    }
   ],
   "source": [
    "afficher(Noms)"
   ]
  },
  {
   "cell_type": "markdown",
   "id": "c7b0ef86",
   "metadata": {},
   "source": [
    "2. Écrire un programme `loto.py` :\n",
    "    * Le programme fait un tirage de 6 numéros (entiers bien sûr au loto) entre 1 et 49.\n",
    "    * L’utilisateur choisit un 1er numéro entre 1 et 49.\n",
    "    * On vérifie d’abord s’il a gagné en tenant compte de l’ordre (PMU...), puis s’il a gagné sans tenir compte de l’ordre (loto...)."
   ]
  },
  {
   "cell_type": "markdown",
   "id": "c4e6152e",
   "metadata": {},
   "source": [
    "Pensez à ajouter un affichage à la fin pour vérifier que la Rochelaise des Jeux n’a pas triché. Compléter avec\n",
    "un jeu à 6 paris."
   ]
  },
  {
   "cell_type": "code",
   "execution_count": 18,
   "id": "9b0a940d",
   "metadata": {},
   "outputs": [
    {
     "name": "stdout",
     "output_type": "stream",
     "text": [
      "Overwriting loto.py\n"
     ]
    }
   ],
   "source": [
    "%%writefile loto.py\n",
    "import numpy as np\n",
    "\n",
    "np.random.seed(69) #le tirage sera 12-10-46-29-23-26\n",
    "def tirage(essais:int):\n",
    "    V = [i for i in range(1,49)]\n",
    "    T = [V.pop(np.random.randint(len(V))) for i in range(6)]\n",
    "    E = []\n",
    "    if not 0<essais<7 :\n",
    "        raise ValueError(\"le nombre d'essais doit être compris entre 1 et 6 inclus\")\n",
    "    for i in range(essais):\n",
    "        n = int(input(f\"entrez votre nombre ({i+1}) : \"))\n",
    "        if not 0<n<50 :\n",
    "            raise ValueError(\"Vous devez donner un nombre entier entre 1 et 49 inclus\")\n",
    "        if n in E :\n",
    "            raise ValueError(\"Vous ne pouvez pas donner deux fois le même nombre\")\n",
    "        E.append(n)\n",
    "    G = [\"perdu\", \"gagné\"]\n",
    "    print(f\"Vous avez {G[int(E==T[:len(E)])]} au PMU\")\n",
    "    print(f\"Vous avez {G[set(E)<=set(T)]} au LOTO\")\n",
    "    print(\"-\".join([str(t) for t in T]))"
   ]
  },
  {
   "cell_type": "code",
   "execution_count": 19,
   "id": "34a69d0c",
   "metadata": {},
   "outputs": [
    {
     "name": "stdout",
     "output_type": "stream",
     "text": [
      "entrez votre nombre (1) : 12\n",
      "entrez votre nombre (2) : 10\n",
      "entrez votre nombre (3) : 46\n",
      "entrez votre nombre (4) : 29\n",
      "entrez votre nombre (5) : 23\n",
      "entrez votre nombre (6) : 26\n",
      "Vous avez gagné au PMU\n",
      "Vous avez gagné au LOTO\n",
      "12-10-46-29-23-26\n"
     ]
    }
   ],
   "source": [
    "from loto import tirage\n",
    "\n",
    "tirage(6)"
   ]
  },
  {
   "cell_type": "markdown",
   "id": "f8b27088",
   "metadata": {},
   "source": [
    "## 4. Communiquer avec l’au-delà de Python"
   ]
  },
  {
   "cell_type": "markdown",
   "id": "a08e07e6",
   "metadata": {},
   "source": [
    "1. Écrire un programme `lire_fichier.py` qui lit le fichier `machin.txt` et l’affiche."
   ]
  },
  {
   "cell_type": "code",
   "execution_count": 20,
   "id": "a703b510",
   "metadata": {},
   "outputs": [
    {
     "name": "stdout",
     "output_type": "stream",
     "text": [
      "Overwriting lire_fichier.py\n"
     ]
    }
   ],
   "source": [
    "%%writefile lire_fichier.py\n",
    "\n",
    "with open(\"machin.txt\", \"r\") as f :\n",
    "    print(f.read())"
   ]
  },
  {
   "cell_type": "code",
   "execution_count": 21,
   "id": "1e9fce30",
   "metadata": {},
   "outputs": [
    {
     "name": "stdout",
     "output_type": "stream",
     "text": [
      "                                                                \n",
      "                      ##                                        \n",
      "                      #:#                       ###             \n",
      "                      #:#                     ##:::#            \n",
      "                      #=:#                   #::***#            \n",
      "                      #=:#                  #:=*=**:#           \n",
      "                      #*=:#                #:=*===**#           \n",
      "                      #*==:#              #:=*=====*#           \n",
      "                     #***==:##           #:=*======*#           \n",
      "                     #***##==:#######   #:=*====*===#           \n",
      "                     #*##***==::===::###:==*===***==#           \n",
      "                    #:***============::==**==****==*#           \n",
      "                  ##:=========:==:::===#=======**==*#           \n",
      "                ##:===.====*=======::===#=====**==*:#           \n",
      "              ##::===.:.==*=============:#===***==*:#           \n",
      "             #::===..:::=**==============:#===*==**#            \n",
      "            #::=====::::=*================:#====***#            \n",
      "           #::========::**====...==========:#=====*#            \n",
      "           #:=====@.==:==*===::::.==========:##===*:#           \n",
      "           #:====* @@=======::::::.=======:==::#===:#           \n",
      "           #=..==@*@*=======::=============:===:#===#           \n",
      "          #==::.=*@*===========@@@@=========::==:===:#          \n",
      "          #..::.=**===========@  @@*================:#          \n",
      "          #::::.=============@ @@@@@*================#          \n",
      "          #::.:.====....=====* *@@@**================:#         \n",
      "         #::.:::.=..::::.=====@*****==.........======:#         \n",
      "         #::..:::.:::::::.===========.:::::::::..=====#         \n",
      "         #:..:=====::::::.==========.::::::::::::.====:#        \n",
      "        #::..=@@@@@@=:::::..=======.::::::::::::::====:#        \n",
      "        #::..@@@@@@@@.::::::.......::::::::::::::::====#        \n",
      "        #::..@@@@@@@@.:::::::::::::::::::::::::::::====#        \n",
      "        #::...@@@@@@@...:::::::::::::::::::::::::::====:#       \n",
      "        #:::.:@@@@@@......::::::::::::::::::::::::=====:#       \n",
      "        #:::::=@@@=:.....::::::::::::::::::====:::======#       \n",
      "        #:::========:..:::::::::::::::::::==:::::=======#       \n",
      "        #:.::=======::::::::::::::::::::===::::::===#===:#      \n",
      "        #:.:::@@@@===:::::::==::::::::===:::::::====#:==:#      \n",
      "        #:..::====@@@==:::==@:::::::::==::::::::====#:===#      \n",
      "        #:..:::@=====@==@@@@::::::::::=:::::::::====#====#      \n",
      "        #::..:::@@====@@===:::::::::::::::::::::===#:====#      \n",
      "        #::...::::@@@==::::::::::::::::::::::::====#:=====#     \n",
      "         #:....::::::::::::..::::::::::::::::::====#======#     \n",
      "         #::......::::......::::::::::::::::::====#:======#     \n",
      "          #::..............::::::::::::::::::=====#=======#     \n",
      "          #:::...........:::::::::::::::::::=====#:======.#     \n",
      "          #*:::........::::::::::::::::::::=====#:======.::#    \n",
      "          #=*::::...:::::::::::::::::::::::====#:======.:::#    \n",
      "          #:=*::::::::::::::::::::=:::::::====#:======.::::#    \n",
      "\n"
     ]
    }
   ],
   "source": [
    "%run -i lire_fichier.py"
   ]
  },
  {
   "cell_type": "markdown",
   "id": "a5f4740a",
   "metadata": {},
   "source": [
    "2. Créer un fichier `interessant.txt` puis le remplir (avec un mot par ligne) à partir de la liste suivante :\n",
    "’ce’ ’fichier’ ’est’ ’sans’ ’intérêt’"
   ]
  },
  {
   "cell_type": "markdown",
   "id": "e0941126",
   "metadata": {},
   "source": [
    "Puis ajouter à ce fichier \"vraiment sans intérêt\"."
   ]
  },
  {
   "cell_type": "code",
   "execution_count": 22,
   "id": "492dad33",
   "metadata": {},
   "outputs": [],
   "source": [
    "with open(\"intéressant.txt\", \"w\", encoding='utf-8') as f :\n",
    "    Mots = ['ce', 'fichier', 'est', 'sans', 'intérêt']\n",
    "    for m in Mots :\n",
    "        f.write(m+\"\\n\")"
   ]
  },
  {
   "cell_type": "code",
   "execution_count": 23,
   "id": "f55b6bbf",
   "metadata": {},
   "outputs": [],
   "source": [
    "with open(\"intéressant.txt\", \"a\", encoding='utf-8') as f :\n",
    "    f.write(\"vraiment sans intérêt\\n\")"
   ]
  },
  {
   "cell_type": "markdown",
   "id": "31b4925e",
   "metadata": {},
   "source": [
    "3. Une remarque sur les modules (que vous créez) :\n",
    "Il est possible de tester les modules écrits directement en utilisant `if __name__ == \"__main__\" :` (vous le\n",
    "verrez parfois dans les programmes)."
   ]
  },
  {
   "cell_type": "markdown",
   "id": "b827970a",
   "metadata": {},
   "source": [
    "Exemple : Créez un fichier `sanstitre1.py` contenant :"
   ]
  },
  {
   "cell_type": "code",
   "execution_count": 24,
   "id": "fea6d8d0",
   "metadata": {},
   "outputs": [
    {
     "name": "stdout",
     "output_type": "stream",
     "text": [
      "Overwriting sanstitre1.py\n"
     ]
    }
   ],
   "source": [
    "%%writefile sanstitre1.py\n",
    "\n",
    "import math\n",
    "\n",
    "def Aire_Cercle (rayon) :\n",
    "    return (math.pi * rayon * rayon )\n",
    "def Perimetre_Cercle (rayon) :\n",
    "    return (2 * math.pi * rayon)\n",
    "if __name__ == \"__main__\" :\n",
    "    r = int (input (\"Votre rayon : \"))\n",
    "    print (\"Aire : %f\" % (Aire_Cercle (r)))\n",
    "    print (\"Perimetre : %f\" % (Perimetre_Cercle (r)))"
   ]
  },
  {
   "cell_type": "markdown",
   "id": "254b2f87",
   "metadata": {},
   "source": [
    "puis créez un fichier `sanstitre2.py` avec"
   ]
  },
  {
   "cell_type": "code",
   "execution_count": 25,
   "id": "f70b146d",
   "metadata": {},
   "outputs": [
    {
     "name": "stdout",
     "output_type": "stream",
     "text": [
      "Overwriting sanstitre2.py\n"
     ]
    }
   ],
   "source": [
    "%%writefile sanstitre2.py\n",
    "\n",
    "from sanstitre1 import *\n",
    "r = int (input (\"Votre rayon : \"))\n",
    "print (\"Aire : %f\" % (Aire_Cercle (r)))\n",
    "print (\"Perimetre : %f\" % (Perimetre_Cercle (r)))"
   ]
  },
  {
   "cell_type": "code",
   "execution_count": 26,
   "id": "5c9d4b9f",
   "metadata": {},
   "outputs": [
    {
     "name": "stdout",
     "output_type": "stream",
     "text": [
      "Votre rayon : 1\n",
      "Aire : 3.141593\n",
      "Perimetre : 6.283185\n"
     ]
    }
   ],
   "source": [
    "%run -i sanstitre1"
   ]
  },
  {
   "cell_type": "code",
   "execution_count": 27,
   "id": "0f8d22af",
   "metadata": {},
   "outputs": [
    {
     "name": "stdout",
     "output_type": "stream",
     "text": [
      "Votre rayon : 2\n",
      "Aire : 12.566371\n",
      "Perimetre : 12.566371\n"
     ]
    }
   ],
   "source": [
    "%run -i sanstitre2"
   ]
  },
  {
   "cell_type": "markdown",
   "id": "63508dcd",
   "metadata": {},
   "source": [
    "## 5. Classes"
   ]
  },
  {
   "cell_type": "markdown",
   "id": "2d261e03",
   "metadata": {},
   "source": [
    "1. Créer une classe CunCercle (dans un fichier `OuiCunCercle.py`) qui se définit par le rayon. La classe\n",
    "CunCercle devra aussi permettre de calculer l’aire du cercle. Et utiliser cette classe dans un autre fichier."
   ]
  },
  {
   "cell_type": "code",
   "execution_count": 28,
   "id": "35982c2e",
   "metadata": {},
   "outputs": [
    {
     "name": "stdout",
     "output_type": "stream",
     "text": [
      "Overwriting OuiCunCercle.py\n"
     ]
    }
   ],
   "source": [
    "%%writefile OuiCunCercle.py\n",
    "import numpy as np\n",
    "\n",
    "class CunCercle :\n",
    "    def __init__(self, r:float):\n",
    "        self.r = r\n",
    "\n",
    "    def aire(self)->float:\n",
    "        return float(np.pi*self.r**2)"
   ]
  },
  {
   "cell_type": "code",
   "execution_count": 29,
   "id": "10ed1a8a",
   "metadata": {},
   "outputs": [
    {
     "name": "stdout",
     "output_type": "stream",
     "text": [
      "12.566370614359172\n"
     ]
    }
   ],
   "source": [
    "from OuiCunCercle import CunCercle\n",
    "\n",
    "C1 = CunCercle(2)\n",
    "print(C1.aire())"
   ]
  },
  {
   "cell_type": "markdown",
   "id": "2c9f4c59",
   "metadata": {},
   "source": [
    "2 Un classique des exos sur les classes :\n",
    "Le code `CunJeuDeCartes.py` crée une classe CunJeuDeCartes qui construit un jeu de 52 cartes :\n",
    "1. Une carte est caractérisée par une valeur et une forme (coeur, carreau, pique, trèfle).\n",
    "2. De plus les méthodes suivantes sont implémentées :\n",
    "    * nom_carte : affiche le nom d’une carte de manière littérale, ex. “valet de coeur”.\n",
    "    * battre : mélange le jeu de cartes.\n",
    "    * afficher : affiche le jeu de cartes.\n",
    "    * tirer : extrait une carte du jeu.\n",
    "Testez ce code, comprenez le bien. Au point, en particulier, d’être capable de corriger le code faux que je\n",
    "vais vous envoyer à part."
   ]
  },
  {
   "cell_type": "code",
   "execution_count": 47,
   "id": "2f26da8e",
   "metadata": {},
   "outputs": [
    {
     "name": "stdout",
     "output_type": "stream",
     "text": [
      "Overwriting CunJeuDeCartes.py\n"
     ]
    }
   ],
   "source": [
    "%%writefile CunJeuDeCartes.py\n",
    "import numpy as np\n",
    "\n",
    "class CunJeuDeCartes :\n",
    "    couleurs = [\"pique\", \"trèfle\", \"coeur\", \"carreau\"]\n",
    "    valeurs = [\"as\", \"roi\", \"dame\", \"valet\", \"dix\", \"neuf\", \"huit\", \"sept\", \"six\", \"cinq\", \"quatre\", \"trois\", \"deux\"]\n",
    "\n",
    "    def __init__(self):\n",
    "        P = []\n",
    "        for c in self.couleurs :\n",
    "            for v in self.valeurs :\n",
    "                P.append(f'{v} de {c}')\n",
    "        self.paquet = P\n",
    "\n",
    "    def nom_carte(self, n:int)->str :\n",
    "        return self.paquet[n]\n",
    "\n",
    "    def afficher(self):\n",
    "        print(str(self))\n",
    "\n",
    "    def __str__(self)->str:\n",
    "        return \"Le paquet de cartes est :\\n\"+\"\\n\".join(self.paquet)\n",
    "\n",
    "    def battre(self):\n",
    "        #pour mélanger les cartes on échange deux cartes aléatoiresment jusqu'à ce que le paquet soit mélangé.\n",
    "        #un paquet de n cartes est en général bien mélangé après 2n échanges\n",
    "        for i in range(2*len(self.paquet)):\n",
    "            a,b = np.random.randint(0, len(self.paquet)),np.random.randint(0, len(self.paquet))\n",
    "            self.paquet[a], self.paquet[b] = self.paquet[b], self.paquet[a]\n",
    "\n",
    "    def tirer(self):\n",
    "        if self.paquet :\n",
    "            return self.paquet.pop(np.random.randint(0, len(self.paquet)))\n",
    "        else :\n",
    "            return \"Le paquet est vide, impossible de tirer une nouvelle carte.\""
   ]
  },
  {
   "cell_type": "code",
   "execution_count": 48,
   "id": "8330787f",
   "metadata": {
    "scrolled": true
   },
   "outputs": [
    {
     "name": "stdout",
     "output_type": "stream",
     "text": [
      "Le paquet de cartes est :\n",
      "as de pique\n",
      "roi de pique\n",
      "dame de pique\n",
      "valet de pique\n",
      "dix de pique\n",
      "neuf de pique\n",
      "huit de pique\n",
      "sept de pique\n",
      "six de pique\n",
      "cinq de pique\n",
      "quatre de pique\n",
      "trois de pique\n",
      "deux de pique\n",
      "as de trèfle\n",
      "roi de trèfle\n",
      "dame de trèfle\n",
      "valet de trèfle\n",
      "dix de trèfle\n",
      "neuf de trèfle\n",
      "huit de trèfle\n",
      "sept de trèfle\n",
      "six de trèfle\n",
      "cinq de trèfle\n",
      "quatre de trèfle\n",
      "trois de trèfle\n",
      "deux de trèfle\n",
      "as de coeur\n",
      "roi de coeur\n",
      "dame de coeur\n",
      "valet de coeur\n",
      "dix de coeur\n",
      "neuf de coeur\n",
      "huit de coeur\n",
      "sept de coeur\n",
      "six de coeur\n",
      "cinq de coeur\n",
      "quatre de coeur\n",
      "trois de coeur\n",
      "deux de coeur\n",
      "as de carreau\n",
      "roi de carreau\n",
      "dame de carreau\n",
      "valet de carreau\n",
      "dix de carreau\n",
      "neuf de carreau\n",
      "huit de carreau\n",
      "sept de carreau\n",
      "six de carreau\n",
      "cinq de carreau\n",
      "quatre de carreau\n",
      "trois de carreau\n",
      "deux de carreau\n"
     ]
    }
   ],
   "source": [
    "from CunJeuDeCartes import CunJeuDeCartes\n",
    "\n",
    "J1 = CunJeuDeCartes()\n",
    "J1.afficher()"
   ]
  },
  {
   "cell_type": "code",
   "execution_count": 49,
   "id": "74177ee7",
   "metadata": {
    "scrolled": true
   },
   "outputs": [
    {
     "name": "stdout",
     "output_type": "stream",
     "text": [
      "Le paquet de cartes est :\n",
      "as de coeur\n",
      "dame de coeur\n",
      "deux de trèfle\n",
      "sept de carreau\n",
      "trois de trèfle\n",
      "dix de pique\n",
      "deux de coeur\n",
      "neuf de carreau\n",
      "deux de pique\n",
      "as de trèfle\n",
      "as de carreau\n",
      "quatre de coeur\n",
      "huit de carreau\n",
      "dix de trèfle\n",
      "roi de trèfle\n",
      "cinq de trèfle\n",
      "huit de coeur\n",
      "huit de pique\n",
      "quatre de pique\n",
      "cinq de carreau\n",
      "six de coeur\n",
      "trois de pique\n",
      "as de pique\n",
      "sept de coeur\n",
      "deux de carreau\n",
      "valet de coeur\n",
      "sept de trèfle\n",
      "trois de coeur\n",
      "roi de carreau\n",
      "neuf de pique\n",
      "dame de carreau\n",
      "neuf de coeur\n",
      "dix de coeur\n",
      "valet de trèfle\n",
      "dame de pique\n",
      "trois de carreau\n",
      "quatre de trèfle\n",
      "quatre de carreau\n",
      "sept de pique\n",
      "six de trèfle\n",
      "neuf de trèfle\n",
      "dame de trèfle\n",
      "roi de coeur\n",
      "dix de carreau\n",
      "roi de pique\n",
      "valet de pique\n",
      "valet de carreau\n",
      "six de pique\n",
      "huit de trèfle\n",
      "six de carreau\n",
      "cinq de pique\n",
      "cinq de coeur\n"
     ]
    }
   ],
   "source": [
    "J1.battre()\n",
    "J1.afficher()"
   ]
  },
  {
   "cell_type": "code",
   "execution_count": 50,
   "id": "0d1f0e5f",
   "metadata": {
    "scrolled": true
   },
   "outputs": [
    {
     "name": "stdout",
     "output_type": "stream",
     "text": [
      "deux de pique\n",
      "huit de trèfle\n",
      "quatre de coeur\n",
      "quatre de carreau\n",
      "roi de trèfle\n",
      "neuf de trèfle\n",
      "sept de coeur\n",
      "dame de coeur\n",
      "huit de pique\n",
      "dame de pique\n",
      "roi de coeur\n",
      "dix de carreau\n",
      "six de carreau\n",
      "neuf de carreau\n",
      "valet de coeur\n",
      "sept de pique\n",
      "cinq de carreau\n",
      "trois de coeur\n",
      "as de pique\n",
      "six de trèfle\n",
      "six de pique\n",
      "six de coeur\n",
      "roi de pique\n",
      "valet de carreau\n",
      "roi de carreau\n",
      "deux de trèfle\n",
      "as de trèfle\n",
      "cinq de coeur\n",
      "valet de pique\n",
      "as de coeur\n",
      "quatre de trèfle\n",
      "trois de trèfle\n",
      "dix de trèfle\n",
      "huit de coeur\n",
      "sept de trèfle\n",
      "dix de coeur\n",
      "dame de trèfle\n",
      "as de carreau\n",
      "deux de carreau\n",
      "dix de pique\n",
      "dame de carreau\n",
      "cinq de pique\n",
      "huit de carreau\n",
      "neuf de coeur\n",
      "trois de pique\n",
      "deux de coeur\n",
      "sept de carreau\n",
      "cinq de trèfle\n",
      "trois de carreau\n",
      "valet de trèfle\n",
      "neuf de pique\n",
      "quatre de pique\n",
      "Le paquet est vide, impossible de tirer une nouvelle carte.\n"
     ]
    }
   ],
   "source": [
    "for i in range(53):\n",
    "    print(J1.tirer())"
   ]
  },
  {
   "cell_type": "markdown",
   "id": "5fb8195a",
   "metadata": {},
   "source": [
    "voici le code faux avec les corrections :"
   ]
  },
  {
   "cell_type": "code",
   "execution_count": 34,
   "id": "074751ec",
   "metadata": {},
   "outputs": [
    {
     "name": "stdout",
     "output_type": "stream",
     "text": [
      "Overwriting JeuDeCartesFaux.py\n"
     ]
    }
   ],
   "source": [
    "%%writefile JeuDeCartesFaux.py\n",
    "#!/usr/bin/env python3\n",
    "# -*- coding: utf-8 -*-\n",
    "\"\"\"\n",
    "Created on Sun Jan 13 22:57:20 2019\n",
    "\n",
    "@author: cchoquet\n",
    "\"\"\"\n",
    "\n",
    "import random\n",
    "\n",
    "class Carte :#parenthèses inutiles\n",
    "    \n",
    "    def __init__(self, f, c): \n",
    "        self.figure = f \n",
    "        self.couleur = c #mauvaise tabulation\n",
    "        \n",
    "    def affiche (self):\n",
    "        s = self.figure + \" de \" + self.couleur \n",
    "        return(s) #mauvaise tabulation\n",
    "\n",
    "class JeuDeCartes (): \n",
    "    \n",
    "    def __init__(self):\n",
    "        couleur = [\"Pique\",\"Coeur\",\"Carreau\",\"Trèfle\"]\n",
    "        valeur = [\"As\",\"2\",\"3\",\"4\",\"5\",\"6\",\"7\",\"8\",\"9\",\"10\",\"Valet\",\"Dame\",\"Roi\"]\n",
    "        #~ Construction de la liste des 52 cartes\n",
    "        self.cartes=[]\n",
    "        #boucle for mal indentée\n",
    "        for coul in couleur: \n",
    "            for val in valeur: #replacement du while par un for\n",
    "                self.cartes.append(Carte(val,coul))   #remplacement de + par la fonction append\n",
    "        return\n",
    "\n",
    "    #~ Mélange des cartes\n",
    "    def battre(self): \n",
    "        random.shuffle(self.cartes)\n",
    "\n",
    "    # Tirage la première carte de la pile\n",
    "    def tirer(self):\n",
    "        if ( len(self.cartes) == 0 ):\n",
    "            print (\"Plus aucune carte\")\n",
    "            return \n",
    "        else:\n",
    "            t = random.randint(0, len(self.cartes)-1) \n",
    "            carte = self.cartes[t]\n",
    "            del(self.cartes[t]) \n",
    "            return (carte)\n",
    "\n",
    "    # Affichage du jeu de carte\n",
    "    def afficher(self):\n",
    "        #correction d'indentation\n",
    "        for carte in (self.cartes):\n",
    "            print (carte.affiche())\n",
    "\n",
    "#Test :\n",
    "#import CJeuDeCartes (inutile ici car un seul et même fichier)\n",
    "#jeu = CJeuDeCartes.JeuDeCartes ()\n",
    "jeu = JeuDeCartes ()            \n",
    "jeu.afficher()\n",
    "input (\"Nous allons mélanger le jeu de cartes\")\n",
    "jeu.battre() \n",
    "jeu.afficher()\n",
    "input (\"Nous allons tirer les cartes une à une\")\n",
    "for i in range (52):\n",
    "    c = jeu.tirer ()\n",
    "    print (\"Je viens de tirer la carte : %s\" % (c.affiche()))"
   ]
  },
  {
   "cell_type": "code",
   "execution_count": 35,
   "id": "ec3efa24",
   "metadata": {},
   "outputs": [
    {
     "name": "stdout",
     "output_type": "stream",
     "text": [
      "As de Pique\n",
      "2 de Pique\n",
      "3 de Pique\n",
      "4 de Pique\n",
      "5 de Pique\n",
      "6 de Pique\n",
      "7 de Pique\n",
      "8 de Pique\n",
      "9 de Pique\n",
      "10 de Pique\n",
      "Valet de Pique\n",
      "Dame de Pique\n",
      "Roi de Pique\n",
      "As de Coeur\n",
      "2 de Coeur\n",
      "3 de Coeur\n",
      "4 de Coeur\n",
      "5 de Coeur\n",
      "6 de Coeur\n",
      "7 de Coeur\n",
      "8 de Coeur\n",
      "9 de Coeur\n",
      "10 de Coeur\n",
      "Valet de Coeur\n",
      "Dame de Coeur\n",
      "Roi de Coeur\n",
      "As de Carreau\n",
      "2 de Carreau\n",
      "3 de Carreau\n",
      "4 de Carreau\n",
      "5 de Carreau\n",
      "6 de Carreau\n",
      "7 de Carreau\n",
      "8 de Carreau\n",
      "9 de Carreau\n",
      "10 de Carreau\n",
      "Valet de Carreau\n",
      "Dame de Carreau\n",
      "Roi de Carreau\n",
      "As de Trèfle\n",
      "2 de Trèfle\n",
      "3 de Trèfle\n",
      "4 de Trèfle\n",
      "5 de Trèfle\n",
      "6 de Trèfle\n",
      "7 de Trèfle\n",
      "8 de Trèfle\n",
      "9 de Trèfle\n",
      "10 de Trèfle\n",
      "Valet de Trèfle\n",
      "Dame de Trèfle\n",
      "Roi de Trèfle\n",
      "Nous allons mélanger le jeu de cartes\n",
      "8 de Carreau\n",
      "Dame de Carreau\n",
      "9 de Pique\n",
      "8 de Trèfle\n",
      "Dame de Coeur\n",
      "6 de Pique\n",
      "9 de Coeur\n",
      "10 de Pique\n",
      "5 de Pique\n",
      "5 de Coeur\n",
      "3 de Carreau\n",
      "2 de Coeur\n",
      "2 de Trèfle\n",
      "5 de Carreau\n",
      "6 de Carreau\n",
      "4 de Trèfle\n",
      "Roi de Pique\n",
      "Dame de Pique\n",
      "Valet de Coeur\n",
      "Valet de Pique\n",
      "10 de Trèfle\n",
      "6 de Trèfle\n",
      "Roi de Carreau\n",
      "Dame de Trèfle\n",
      "2 de Pique\n",
      "9 de Carreau\n",
      "3 de Trèfle\n",
      "As de Carreau\n",
      "As de Coeur\n",
      "4 de Pique\n",
      "3 de Coeur\n",
      "3 de Pique\n",
      "4 de Carreau\n",
      "As de Pique\n",
      "5 de Trèfle\n",
      "Roi de Coeur\n",
      "8 de Pique\n",
      "7 de Trèfle\n",
      "7 de Pique\n",
      "Roi de Trèfle\n",
      "6 de Coeur\n",
      "As de Trèfle\n",
      "9 de Trèfle\n",
      "8 de Coeur\n",
      "10 de Carreau\n",
      "7 de Coeur\n",
      "Valet de Carreau\n",
      "Valet de Trèfle\n",
      "7 de Carreau\n",
      "4 de Coeur\n",
      "2 de Carreau\n",
      "10 de Coeur\n",
      "Nous allons tirer les cartes une à une\n",
      "Je viens de tirer la carte : 8 de Coeur\n",
      "Je viens de tirer la carte : 3 de Trèfle\n",
      "Je viens de tirer la carte : 5 de Carreau\n",
      "Je viens de tirer la carte : 2 de Pique\n",
      "Je viens de tirer la carte : Dame de Carreau\n",
      "Je viens de tirer la carte : As de Carreau\n",
      "Je viens de tirer la carte : 4 de Pique\n",
      "Je viens de tirer la carte : 10 de Pique\n",
      "Je viens de tirer la carte : 6 de Trèfle\n",
      "Je viens de tirer la carte : Valet de Carreau\n",
      "Je viens de tirer la carte : 4 de Trèfle\n",
      "Je viens de tirer la carte : 6 de Pique\n",
      "Je viens de tirer la carte : 4 de Carreau\n",
      "Je viens de tirer la carte : Roi de Carreau\n",
      "Je viens de tirer la carte : Dame de Trèfle\n",
      "Je viens de tirer la carte : 3 de Pique\n",
      "Je viens de tirer la carte : As de Coeur\n",
      "Je viens de tirer la carte : Valet de Trèfle\n",
      "Je viens de tirer la carte : 8 de Carreau\n",
      "Je viens de tirer la carte : 9 de Pique\n",
      "Je viens de tirer la carte : 3 de Carreau\n",
      "Je viens de tirer la carte : 10 de Coeur\n",
      "Je viens de tirer la carte : 10 de Carreau\n",
      "Je viens de tirer la carte : 10 de Trèfle\n",
      "Je viens de tirer la carte : 9 de Carreau\n",
      "Je viens de tirer la carte : 4 de Coeur\n",
      "Je viens de tirer la carte : Roi de Trèfle\n",
      "Je viens de tirer la carte : 7 de Trèfle\n",
      "Je viens de tirer la carte : Valet de Pique\n",
      "Je viens de tirer la carte : 3 de Coeur\n",
      "Je viens de tirer la carte : 5 de Pique\n",
      "Je viens de tirer la carte : 2 de Carreau\n",
      "Je viens de tirer la carte : 8 de Pique\n",
      "Je viens de tirer la carte : 7 de Coeur\n",
      "Je viens de tirer la carte : 6 de Coeur\n",
      "Je viens de tirer la carte : 9 de Trèfle\n",
      "Je viens de tirer la carte : Dame de Coeur\n",
      "Je viens de tirer la carte : 9 de Coeur\n",
      "Je viens de tirer la carte : 8 de Trèfle\n",
      "Je viens de tirer la carte : 7 de Carreau\n",
      "Je viens de tirer la carte : As de Trèfle\n",
      "Je viens de tirer la carte : 7 de Pique\n",
      "Je viens de tirer la carte : 5 de Coeur\n",
      "Je viens de tirer la carte : Roi de Pique\n",
      "Je viens de tirer la carte : 2 de Trèfle\n",
      "Je viens de tirer la carte : Dame de Pique\n",
      "Je viens de tirer la carte : As de Pique\n",
      "Je viens de tirer la carte : Roi de Coeur\n",
      "Je viens de tirer la carte : Valet de Coeur\n",
      "Je viens de tirer la carte : 6 de Carreau\n",
      "Je viens de tirer la carte : 5 de Trèfle\n",
      "Je viens de tirer la carte : 2 de Coeur\n"
     ]
    }
   ],
   "source": [
    "%run JeuDeCartesFaux"
   ]
  },
  {
   "cell_type": "markdown",
   "id": "1bae5b4b",
   "metadata": {},
   "source": [
    "## 6. Exercice : un algorithme de tri"
   ]
  },
  {
   "cell_type": "markdown",
   "id": "e4dadbd1",
   "metadata": {},
   "source": [
    "Observez bien ce monument : `bon_courage.mp4`"
   ]
  },
  {
   "cell_type": "code",
   "execution_count": 36,
   "id": "2889a68e",
   "metadata": {},
   "outputs": [
    {
     "data": {
      "text/html": [
       "<video src=\"img/bon_courage.mp4\" controls  >\n",
       "      Your browser does not support the <code>video</code> element.\n",
       "    </video>"
      ],
      "text/plain": [
       "<IPython.core.display.Video object>"
      ]
     },
     "execution_count": 36,
     "metadata": {},
     "output_type": "execute_result"
    }
   ],
   "source": [
    "from IPython.display import Video\n",
    "\n",
    "Video(\"img/bon_courage.mp4\")"
   ]
  },
  {
   "cell_type": "markdown",
   "id": "7410c002",
   "metadata": {},
   "source": [
    "Il me faut un programme me permettant de faire tourner sur n’importe quel jeu de données (un ensemble\n",
    "fini de nombres positifs non ordonné !). L’algorithme de tri correspondant EXACTEMENT à la vidéo !"
   ]
  },
  {
   "cell_type": "markdown",
   "id": "e1d25851",
   "metadata": {},
   "source": [
    "*Indice* : Pour démarrer, un cas plus simple :\n",
    "[lien vers Youtube en cliquant ici](https://www.youtube.com/watch?v=LriMvv9qDrk) qui correspond à :"
   ]
  },
  {
   "cell_type": "markdown",
   "id": "3c6c9ed4",
   "metadata": {},
   "source": [
    "<img src=\"img/tri_selection.png\" alt=\"alt_text\" align=\"left\"/>"
   ]
  },
  {
   "cell_type": "markdown",
   "id": "3cd01e3b",
   "metadata": {},
   "source": [
    "voici donc un algorithme de **tri par sélection** :"
   ]
  },
  {
   "cell_type": "code",
   "execution_count": 37,
   "id": "69104b20",
   "metadata": {},
   "outputs": [],
   "source": [
    "#on crée une liste et on la mélange\n",
    "L = np.arange(24)\n",
    "np.random.shuffle(L)"
   ]
  },
  {
   "cell_type": "code",
   "execution_count": 38,
   "id": "7d4a232f",
   "metadata": {},
   "outputs": [],
   "source": [
    "def tri_sélection(L:list)->list:\n",
    "    for i in range(len(L)-1):\n",
    "        i_min = i\n",
    "        for j in range(i+1, len(L)):\n",
    "            if L[j]<L[i_min] :\n",
    "                i_min = j\n",
    "        L[i], L[i_min] = L[i_min], L[i]\n",
    "    return L"
   ]
  },
  {
   "cell_type": "code",
   "execution_count": 39,
   "id": "e5ba23a0",
   "metadata": {},
   "outputs": [
    {
     "name": "stdout",
     "output_type": "stream",
     "text": [
      "[ 5  6  7 20 13 16 15  1 21  3 17  4  0  9 11 22 12 10  8 23 18 19  2 14]\n",
      "[ 0  1  2  3  4  5  6  7  8  9 10 11 12 13 14 15 16 17 18 19 20 21 22 23]\n"
     ]
    }
   ],
   "source": [
    "print(L)\n",
    "print(tri_sélection(L))"
   ]
  },
  {
   "cell_type": "markdown",
   "id": "8dd3c978",
   "metadata": {},
   "source": [
    "Et voici un algorithme de **tri rapide** avec créations de listes :"
   ]
  },
  {
   "cell_type": "code",
   "execution_count": 40,
   "id": "fc8e7206",
   "metadata": {},
   "outputs": [],
   "source": [
    "np.random.shuffle(L)"
   ]
  },
  {
   "cell_type": "code",
   "execution_count": 41,
   "id": "152df790",
   "metadata": {},
   "outputs": [],
   "source": [
    "def tri_rapide(L:list)->list:\n",
    "    if len(L)<=1 :\n",
    "        return L\n",
    "    else :\n",
    "        curseur = L[0]\n",
    "        petit = []\n",
    "        egal = []\n",
    "        grand = []\n",
    "        \n",
    "        for i in range(len(L)):\n",
    "            if L[i]==curseur :\n",
    "                egal.append(L[i])\n",
    "            elif L[i]<curseur :\n",
    "                petit.append(L[i])\n",
    "            else :\n",
    "                grand.append(L[i])\n",
    "                    \n",
    "        return np.array(list(tri_rapide(petit))+egal+list(tri_rapide(grand)), dtype=int)"
   ]
  },
  {
   "cell_type": "code",
   "execution_count": 42,
   "id": "246beaf9",
   "metadata": {},
   "outputs": [
    {
     "name": "stdout",
     "output_type": "stream",
     "text": [
      "[12 23 11 18 10 15 14  3  8  0 17  5 20  6 22 19  7  4  2  1 16  9 21 13]\n",
      "[ 0  1  2  3  4  5  6  7  8  9 10 11 12 13 14 15 16 17 18 19 20 21 22 23]\n"
     ]
    }
   ],
   "source": [
    "print(L)\n",
    "print(np.array(tri_rapide(L)))"
   ]
  },
  {
   "cell_type": "markdown",
   "id": "97b1fc2f",
   "metadata": {},
   "source": [
    "cependant on peut faire un tri qui se rapproche plus de la vidéo avec un **tri rapide en place** avec l'algorithme suivant :"
   ]
  },
  {
   "cell_type": "code",
   "execution_count": 43,
   "id": "6f4174f4",
   "metadata": {},
   "outputs": [],
   "source": [
    "np.random.shuffle(L)"
   ]
  },
  {
   "cell_type": "code",
   "execution_count": 44,
   "id": "c9ffe127",
   "metadata": {},
   "outputs": [],
   "source": [
    "def tri_rapide_en_place(L:list)->list:\n",
    "    if len(L)<=1 :\n",
    "        return L\n",
    "    else :\n",
    "        curseur = 0\n",
    "        j = len(L)-1\n",
    "        for i in range(len(L)):\n",
    "            if j<curseur :\n",
    "                if L[j]>L[curseur]:\n",
    "                    L[j],L[curseur]=L[curseur],L[j]\n",
    "                    j,curseur=curseur,j\n",
    "                    j-=1\n",
    "                else :\n",
    "                    j+=1\n",
    "            else :\n",
    "                if L[j]<=L[curseur]:\n",
    "                    L[j],L[curseur]=L[curseur],L[j]\n",
    "                    j,curseur=curseur,j\n",
    "                    j+=1\n",
    "                else :\n",
    "                    j-=1\n",
    "        \n",
    "        tri_rapide_en_place(L[:curseur])\n",
    "        tri_rapide_en_place(L[curseur+1:])\n",
    "        return L"
   ]
  },
  {
   "cell_type": "code",
   "execution_count": 45,
   "id": "c07075b7",
   "metadata": {},
   "outputs": [
    {
     "name": "stdout",
     "output_type": "stream",
     "text": [
      "[15 12 16 19  5  6 11 18 20  2 10  3 13 21  8 17  1 22  4 23  7 14  0  9]\n",
      "[ 0  1  2  3  4  5  6  7  8  9 10 11 12 13 14 15 16 17 18 19 20 21 22 23]\n"
     ]
    }
   ],
   "source": [
    "print(L)\n",
    "print(tri_rapide_en_place(L))"
   ]
  }
 ],
 "metadata": {
  "kernelspec": {
   "display_name": "Python 3 (ipykernel)",
   "language": "python",
   "name": "python3"
  },
  "language_info": {
   "codemirror_mode": {
    "name": "ipython",
    "version": 3
   },
   "file_extension": ".py",
   "mimetype": "text/x-python",
   "name": "python",
   "nbconvert_exporter": "python",
   "pygments_lexer": "ipython3",
   "version": "3.9.7"
  }
 },
 "nbformat": 4,
 "nbformat_minor": 5
}
